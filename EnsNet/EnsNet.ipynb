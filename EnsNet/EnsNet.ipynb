{
  "metadata": {
    "kernelspec": {
      "name": "python3",
      "display_name": "Python 3",
      "language": "python"
    },
    "language_info": {
      "name": "python",
      "version": "3.11.11",
      "mimetype": "text/x-python",
      "codemirror_mode": {
        "name": "ipython",
        "version": 3
      },
      "pygments_lexer": "ipython3",
      "nbconvert_exporter": "python",
      "file_extension": ".py"
    },
    "colab": {
      "provenance": [],
      "gpuType": "T4"
    },
    "accelerator": "GPU",
    "kaggle": {
      "accelerator": "nvidiaTeslaT4",
      "dataSources": [],
      "dockerImageVersionId": 31011,
      "isInternetEnabled": true,
      "language": "python",
      "sourceType": "notebook",
      "isGpuEnabled": true
    }
  },
  "nbformat_minor": 0,
  "nbformat": 4,
  "cells": [
    {
      "cell_type": "code",
      "source": [
        "%pip install pytorch-nlp"
      ],
      "metadata": {
        "colab": {
          "base_uri": "https://localhost:8080/"
        },
        "id": "8ZFBDNyHCU0c",
        "outputId": "8423b200-a961-4c40-ab11-0958fd3543cf",
        "trusted": true,
        "execution": {
          "iopub.status.busy": "2025-05-06T02:32:46.960960Z",
          "iopub.execute_input": "2025-05-06T02:32:46.961700Z",
          "iopub.status.idle": "2025-05-06T02:32:52.461703Z",
          "shell.execute_reply.started": "2025-05-06T02:32:46.961674Z",
          "shell.execute_reply": "2025-05-06T02:32:52.460774Z"
        }
      },
      "outputs": [
        {
          "name": "stdout",
          "text": "Collecting pytorch-nlp\n  Downloading pytorch_nlp-0.5.0-py3-none-any.whl.metadata (9.0 kB)\nRequirement already satisfied: numpy in /usr/local/lib/python3.11/dist-packages (from pytorch-nlp) (1.26.4)\nRequirement already satisfied: tqdm in /usr/local/lib/python3.11/dist-packages (from pytorch-nlp) (4.67.1)\nRequirement already satisfied: mkl_fft in /usr/local/lib/python3.11/dist-packages (from numpy->pytorch-nlp) (1.3.8)\nRequirement already satisfied: mkl_random in /usr/local/lib/python3.11/dist-packages (from numpy->pytorch-nlp) (1.2.4)\nRequirement already satisfied: mkl_umath in /usr/local/lib/python3.11/dist-packages (from numpy->pytorch-nlp) (0.1.1)\nRequirement already satisfied: mkl in /usr/local/lib/python3.11/dist-packages (from numpy->pytorch-nlp) (2025.1.0)\nRequirement already satisfied: tbb4py in /usr/local/lib/python3.11/dist-packages (from numpy->pytorch-nlp) (2022.1.0)\nRequirement already satisfied: mkl-service in /usr/local/lib/python3.11/dist-packages (from numpy->pytorch-nlp) (2.4.1)\nRequirement already satisfied: intel-openmp<2026,>=2024 in /usr/local/lib/python3.11/dist-packages (from mkl->numpy->pytorch-nlp) (2024.2.0)\nRequirement already satisfied: tbb==2022.* in /usr/local/lib/python3.11/dist-packages (from mkl->numpy->pytorch-nlp) (2022.1.0)\nRequirement already satisfied: tcmlib==1.* in /usr/local/lib/python3.11/dist-packages (from tbb==2022.*->mkl->numpy->pytorch-nlp) (1.2.0)\nRequirement already satisfied: intel-cmplr-lib-rt in /usr/local/lib/python3.11/dist-packages (from mkl_umath->numpy->pytorch-nlp) (2024.2.0)\nRequirement already satisfied: intel-cmplr-lib-ur==2024.2.0 in /usr/local/lib/python3.11/dist-packages (from intel-openmp<2026,>=2024->mkl->numpy->pytorch-nlp) (2024.2.0)\nDownloading pytorch_nlp-0.5.0-py3-none-any.whl (90 kB)\n\u001b[2K   \u001b[90m━━━━━━━━━━━━━━━━━━━━━━━━━━━━━━━━━━━━━━━━\u001b[0m \u001b[32m90.1/90.1 kB\u001b[0m \u001b[31m2.6 MB/s\u001b[0m eta \u001b[36m0:00:00\u001b[0m\n\u001b[?25hInstalling collected packages: pytorch-nlp\nSuccessfully installed pytorch-nlp-0.5.0\nNote: you may need to restart the kernel to use updated packages.\n",
          "output_type": "stream"
        }
      ],
      "execution_count": null
    },
    {
      "cell_type": "code",
      "source": [
        "import torch.nn as nn\n",
        "import torchvision\n",
        "import torch\n",
        "import matplotlib.pyplot as plt\n",
        "from torch.utils.data import DataLoader\n",
        "from random import choices, sample\n",
        "import numpy as np\n",
        "import random\n",
        "from sklearn.model_selection import train_test_split\n",
        "import warnings\n",
        "from torchnlp.nn.weight_drop import WeightDropLinear\n",
        "from torch.optim import Adam"
      ],
      "metadata": {
        "id": "BW6q-UjMswWh",
        "trusted": true,
        "execution": {
          "iopub.status.busy": "2025-05-06T02:32:52.463610Z",
          "iopub.execute_input": "2025-05-06T02:32:52.463836Z",
          "iopub.status.idle": "2025-05-06T02:33:03.753187Z",
          "shell.execute_reply.started": "2025-05-06T02:32:52.463816Z",
          "shell.execute_reply": "2025-05-06T02:33:03.752350Z"
        }
      },
      "outputs": [],
      "execution_count": null
    },
    {
      "cell_type": "code",
      "source": [
        "device = \"cuda\" if torch.cuda.is_available() else \"cpu\"\n",
        "seed = 42\n",
        "warnings.filterwarnings(\"ignore\")"
      ],
      "metadata": {
        "id": "cGiX0GrIugNI",
        "trusted": true,
        "execution": {
          "iopub.status.busy": "2025-05-06T02:33:03.753806Z",
          "iopub.execute_input": "2025-05-06T02:33:03.754094Z",
          "iopub.status.idle": "2025-05-06T02:33:03.849925Z",
          "shell.execute_reply.started": "2025-05-06T02:33:03.754077Z",
          "shell.execute_reply": "2025-05-06T02:33:03.849012Z"
        }
      },
      "outputs": [],
      "execution_count": null
    },
    {
      "cell_type": "code",
      "source": [
        "torch.random.manual_seed(seed)\n",
        "torch.cuda.manual_seed_all(seed)\n",
        "torch.manual_seed(seed)\n",
        "np.random.seed(seed)\n",
        "random.seed(seed)"
      ],
      "metadata": {
        "id": "UN5Fkq5NuhyO",
        "trusted": true,
        "execution": {
          "iopub.status.busy": "2025-05-06T02:33:03.850957Z",
          "iopub.execute_input": "2025-05-06T02:33:03.851789Z",
          "iopub.status.idle": "2025-05-06T02:33:03.879471Z",
          "shell.execute_reply.started": "2025-05-06T02:33:03.851759Z",
          "shell.execute_reply": "2025-05-06T02:33:03.878543Z"
        }
      },
      "outputs": [],
      "execution_count": null
    },
    {
      "cell_type": "code",
      "source": [
        "train_data = torchvision.datasets.MNIST(\"./\", train=True, download=True)\n",
        "test_data = torchvision.datasets.MNIST(\"./\", train=False, download=True)"
      ],
      "metadata": {
        "id": "RpbSjKRpszrl",
        "trusted": true,
        "execution": {
          "iopub.status.busy": "2025-05-06T02:33:03.881468Z",
          "iopub.execute_input": "2025-05-06T02:33:03.881668Z",
          "iopub.status.idle": "2025-05-06T02:33:06.244185Z",
          "shell.execute_reply.started": "2025-05-06T02:33:03.881652Z",
          "shell.execute_reply": "2025-05-06T02:33:06.243347Z"
        },
        "outputId": "8003765d-fe89-4720-8f8e-01f423e1cfdf"
      },
      "outputs": [
        {
          "name": "stdout",
          "text": "Downloading http://yann.lecun.com/exdb/mnist/train-images-idx3-ubyte.gz\nFailed to download (trying next):\nHTTP Error 404: Not Found\n\nDownloading https://ossci-datasets.s3.amazonaws.com/mnist/train-images-idx3-ubyte.gz\nDownloading https://ossci-datasets.s3.amazonaws.com/mnist/train-images-idx3-ubyte.gz to ./MNIST/raw/train-images-idx3-ubyte.gz\n",
          "output_type": "stream"
        },
        {
          "name": "stderr",
          "text": "100%|██████████| 9.91M/9.91M [00:00<00:00, 41.7MB/s]\n",
          "output_type": "stream"
        },
        {
          "name": "stdout",
          "text": "Extracting ./MNIST/raw/train-images-idx3-ubyte.gz to ./MNIST/raw\n\nDownloading http://yann.lecun.com/exdb/mnist/train-labels-idx1-ubyte.gz\nFailed to download (trying next):\nHTTP Error 404: Not Found\n\nDownloading https://ossci-datasets.s3.amazonaws.com/mnist/train-labels-idx1-ubyte.gz\nDownloading https://ossci-datasets.s3.amazonaws.com/mnist/train-labels-idx1-ubyte.gz to ./MNIST/raw/train-labels-idx1-ubyte.gz\n",
          "output_type": "stream"
        },
        {
          "name": "stderr",
          "text": "100%|██████████| 28.9k/28.9k [00:00<00:00, 1.14MB/s]",
          "output_type": "stream"
        },
        {
          "name": "stdout",
          "text": "Extracting ./MNIST/raw/train-labels-idx1-ubyte.gz to ./MNIST/raw\n\nDownloading http://yann.lecun.com/exdb/mnist/t10k-images-idx3-ubyte.gz\n",
          "output_type": "stream"
        },
        {
          "name": "stderr",
          "text": "\n",
          "output_type": "stream"
        },
        {
          "name": "stdout",
          "text": "Failed to download (trying next):\nHTTP Error 404: Not Found\n\nDownloading https://ossci-datasets.s3.amazonaws.com/mnist/t10k-images-idx3-ubyte.gz\nDownloading https://ossci-datasets.s3.amazonaws.com/mnist/t10k-images-idx3-ubyte.gz to ./MNIST/raw/t10k-images-idx3-ubyte.gz\n",
          "output_type": "stream"
        },
        {
          "name": "stderr",
          "text": "100%|██████████| 1.65M/1.65M [00:00<00:00, 8.99MB/s]\n",
          "output_type": "stream"
        },
        {
          "name": "stdout",
          "text": "Extracting ./MNIST/raw/t10k-images-idx3-ubyte.gz to ./MNIST/raw\n\nDownloading http://yann.lecun.com/exdb/mnist/t10k-labels-idx1-ubyte.gz\nFailed to download (trying next):\nHTTP Error 404: Not Found\n\nDownloading https://ossci-datasets.s3.amazonaws.com/mnist/t10k-labels-idx1-ubyte.gz\nDownloading https://ossci-datasets.s3.amazonaws.com/mnist/t10k-labels-idx1-ubyte.gz to ./MNIST/raw/t10k-labels-idx1-ubyte.gz\n",
          "output_type": "stream"
        },
        {
          "name": "stderr",
          "text": "100%|██████████| 4.54k/4.54k [00:00<00:00, 5.59MB/s]",
          "output_type": "stream"
        },
        {
          "name": "stdout",
          "text": "Extracting ./MNIST/raw/t10k-labels-idx1-ubyte.gz to ./MNIST/raw\n\n",
          "output_type": "stream"
        },
        {
          "name": "stderr",
          "text": "\n",
          "output_type": "stream"
        }
      ],
      "execution_count": null
    },
    {
      "cell_type": "code",
      "source": [
        "train_images = train_data.data.unsqueeze(1).float()\n",
        "train_labels = train_data.targets\n",
        "test_images = test_data.data.unsqueeze(1).float()\n",
        "test_labels = test_data.targets"
      ],
      "metadata": {
        "id": "Ftj5XN7cuF1v",
        "trusted": true,
        "execution": {
          "iopub.status.busy": "2025-05-06T02:33:06.245055Z",
          "iopub.execute_input": "2025-05-06T02:33:06.245344Z",
          "iopub.status.idle": "2025-05-06T02:33:06.362512Z",
          "shell.execute_reply.started": "2025-05-06T02:33:06.245319Z",
          "shell.execute_reply": "2025-05-06T02:33:06.361113Z"
        }
      },
      "outputs": [],
      "execution_count": null
    },
    {
      "cell_type": "code",
      "source": [
        "y_train = torch.Tensor([[1 if i == el else 0 for i in range(10)] for el in train_labels])\n",
        "y_test = torch.Tensor([[1 if i == el else 0 for i in range(10)] for el in test_labels])"
      ],
      "metadata": {
        "id": "oKFr-HvNq2pD",
        "trusted": true,
        "execution": {
          "iopub.status.busy": "2025-05-06T02:33:06.363460Z",
          "iopub.execute_input": "2025-05-06T02:33:06.364024Z",
          "iopub.status.idle": "2025-05-06T02:33:09.871376Z",
          "shell.execute_reply.started": "2025-05-06T02:33:06.364001Z",
          "shell.execute_reply": "2025-05-06T02:33:09.870820Z"
        }
      },
      "outputs": [],
      "execution_count": null
    },
    {
      "cell_type": "code",
      "source": [
        "X_train, X_val, y_train, y_val = train_test_split(train_images, y_train, test_size=0.2)\n",
        "y_val = torch.argmax(y_val, dim=1)"
      ],
      "metadata": {
        "id": "38uZuJRlvDbC",
        "trusted": true,
        "execution": {
          "iopub.status.busy": "2025-05-06T02:33:09.872128Z",
          "iopub.execute_input": "2025-05-06T02:33:09.872434Z",
          "iopub.status.idle": "2025-05-06T02:33:10.020529Z",
          "shell.execute_reply.started": "2025-05-06T02:33:09.872399Z",
          "shell.execute_reply": "2025-05-06T02:33:10.019747Z"
        }
      },
      "outputs": [],
      "execution_count": null
    },
    {
      "cell_type": "code",
      "source": [
        "class CNN(nn.Module):\n",
        "\n",
        "  def __init__(self):\n",
        "    super().__init__()\n",
        "    self.dropout = nn.Dropout(0.35)\n",
        "\n",
        "    self.conv1 = nn.Conv2d(in_channels=1, out_channels=64, kernel_size=3, padding=2)\n",
        "    self.conv2 = nn.Conv2d(in_channels=64, out_channels=128, kernel_size=3)\n",
        "    self.conv3 = nn.Conv2d(in_channels=128, out_channels=256, kernel_size=3, padding=1)\n",
        "    self.conv4 = nn.Conv2d(in_channels=256, out_channels=512, kernel_size=3, padding=1)\n",
        "    self.conv5 = nn.Conv2d(in_channels=512, out_channels=1024, kernel_size=3)\n",
        "    self.conv6 = nn.Conv2d(in_channels=1024, out_channels=2000, kernel_size=3, padding=1)\n",
        "\n",
        "    self.bn1 = nn.BatchNorm2d(num_features=64)\n",
        "    self.bn2 = nn.BatchNorm2d(num_features=128)\n",
        "    self.bn3 = nn.BatchNorm2d(num_features=256)\n",
        "    self.bn4 = nn.BatchNorm2d(num_features=512)\n",
        "    self.bn5 = nn.BatchNorm2d(num_features=1024)\n",
        "    self.bn6 = nn.BatchNorm2d(num_features=2000)\n",
        "\n",
        "    self.maxpool = nn.MaxPool2d(kernel_size=2)\n",
        "\n",
        "  def forward(self, x):\n",
        "\n",
        "    x = self.conv1(x)\n",
        "    x = self.bn1(x)\n",
        "    x = self.dropout(x)\n",
        "    x = self.conv2(x)\n",
        "    x = self.bn2(x)\n",
        "    x = self.dropout(x)\n",
        "    x = self.conv3(x)\n",
        "    x = self.bn3(x)\n",
        "\n",
        "    x = self.maxpool(x)\n",
        "\n",
        "    x = self.dropout(x)\n",
        "    x = self.conv4(x)\n",
        "    x = self.bn4(x)\n",
        "    x = self.dropout(x)\n",
        "    x = self.conv5(x)\n",
        "    x = self.bn5(x)\n",
        "    x = self.dropout(x)\n",
        "    x = self.conv6(x)\n",
        "    x = self.bn6(x)\n",
        "\n",
        "    x = self.maxpool(x)\n",
        "\n",
        "    x = self.dropout(x)\n",
        "\n",
        "    return x\n",
        "\n",
        "\n",
        "class SubNetwork(nn.Module):\n",
        "\n",
        "  def __init__(self, in_dim):\n",
        "    super().__init__()\n",
        "    self.fc1 = nn.Linear(in_features=in_dim, out_features=512)\n",
        "    self.bn = nn.BatchNorm1d(num_features=512)\n",
        "    self.dropout = nn.Dropout(0.5)\n",
        "    self.fc2 = nn.Linear(512, 10)\n",
        "\n",
        "  def forward(self, x):\n",
        "    x = torch.flatten(x, 1, -1)\n",
        "    x = self.fc1(x)\n",
        "    x = self.bn(x)\n",
        "    x = self.dropout(x)\n",
        "\n",
        "    x = self.fc2(x)\n",
        "    return x\n"
      ],
      "metadata": {
        "id": "n486JqKy5q8Q",
        "trusted": true,
        "execution": {
          "iopub.status.busy": "2025-05-06T02:33:10.021372Z",
          "iopub.execute_input": "2025-05-06T02:33:10.021581Z",
          "iopub.status.idle": "2025-05-06T02:33:10.031776Z",
          "shell.execute_reply.started": "2025-05-06T02:33:10.021566Z",
          "shell.execute_reply": "2025-05-06T02:33:10.031227Z"
        }
      },
      "outputs": [],
      "execution_count": null
    },
    {
      "cell_type": "code",
      "source": [
        "def switch_model_params_status(model):\n",
        "  for param in model.parameters():\n",
        "    param.requires_grad ^= True"
      ],
      "metadata": {
        "id": "GOHprCA5pwyY",
        "trusted": true,
        "execution": {
          "iopub.status.busy": "2025-05-06T02:33:10.032452Z",
          "iopub.execute_input": "2025-05-06T02:33:10.032712Z",
          "iopub.status.idle": "2025-05-06T02:33:10.054708Z",
          "shell.execute_reply.started": "2025-05-06T02:33:10.032690Z",
          "shell.execute_reply": "2025-05-06T02:33:10.054108Z"
        }
      },
      "outputs": [],
      "execution_count": null
    },
    {
      "cell_type": "code",
      "source": [
        "cnn = CNN().to(device)\n",
        "cnn_optimizer = Adam(cnn.parameters(), lr=0.001)\n",
        "small_subnetworks = [SubNetwork(7200).to(device), SubNetwork(7200).to(device), SubNetwork(7200).to(device), SubNetwork(7200).to(device), SubNetwork(7200).to(device), SubNetwork(7200).to(device), SubNetwork(7200).to(device), SubNetwork(7200).to(device), SubNetwork(7200).to(device), SubNetwork(7200).to(device)]\n",
        "small_optimizers = [Adam(small_subnetworks[0].parameters(), lr=0.001), Adam(small_subnetworks[1].parameters(), lr=0.001), Adam(small_subnetworks[2].parameters(), lr=0.001), Adam(small_subnetworks[3].parameters(), lr=0.001), Adam(small_subnetworks[4].parameters(), lr=0.001), Adam(small_subnetworks[5].parameters(), lr=0.001), Adam(small_subnetworks[6].parameters(), lr=0.001), Adam(small_subnetworks[7].parameters(), lr=0.001), Adam(small_subnetworks[8].parameters(), lr=0.001), Adam(small_subnetworks[9].parameters(), lr=0.001)]\n",
        "cnn_fc = SubNetwork(72000).to(device)\n",
        "fc_optimizer = Adam(cnn_fc.parameters(), lr=0.001)"
      ],
      "metadata": {
        "id": "IYJTBcRP70q-",
        "trusted": true,
        "execution": {
          "iopub.status.busy": "2025-05-06T02:33:10.055783Z",
          "iopub.execute_input": "2025-05-06T02:33:10.056026Z",
          "iopub.status.idle": "2025-05-06T02:33:11.227413Z",
          "shell.execute_reply.started": "2025-05-06T02:33:10.056010Z",
          "shell.execute_reply": "2025-05-06T02:33:11.226603Z"
        }
      },
      "outputs": [],
      "execution_count": null
    },
    {
      "cell_type": "code",
      "source": [
        "EPOCHS = 50\n",
        "batch_size = 100\n",
        "train_batches = DataLoader([*zip(X_train, y_train)], batch_size=batch_size, shuffle=True)\n",
        "val_batches = DataLoader([*zip(X_val, y_val)], batch_size=batch_size, shuffle=True)\n",
        "loss_fn = nn.CrossEntropyLoss()\n",
        "\n",
        "for epoch in range(EPOCHS):\n",
        "  cnn.train()\n",
        "  cnn_fc.train()\n",
        "  for small in small_subnetworks:\n",
        "    small.train()\n",
        "  for batch in train_batches:\n",
        "    features, target = batch[:-1], batch[-1]\n",
        "    features = features[0].to(device)\n",
        "    target = target.to(device)\n",
        "    cnn_optimizer.zero_grad()\n",
        "    fc_optimizer.zero_grad()\n",
        "    for opt in small_optimizers:\n",
        "      opt.zero_grad()\n",
        "    for model in small_subnetworks:\n",
        "      switch_model_params_status(model)\n",
        "    cnn_out = cnn(features)\n",
        "    cnn_fc_out = cnn_fc(cnn_out)\n",
        "    perte = loss_fn(cnn_fc_out, target)\n",
        "    perte.backward()\n",
        "    cnn_optimizer.step()\n",
        "\n",
        "    for model in small_subnetworks:\n",
        "      switch_model_params_status(model)\n",
        "    switch_model_params_status(cnn)\n",
        "    temp = cnn_out.detach()\n",
        "\n",
        "    for i in range(10):\n",
        "      sub_out = small_subnetworks[i](temp[:, i*200:(i+1)*200])\n",
        "      perte = loss_fn(sub_out, target)\n",
        "      perte.backward()\n",
        "      small_optimizers[i].step()\n",
        "    switch_model_params_status(cnn)\n",
        "\n",
        "  with torch.no_grad():\n",
        "      cnn.eval()\n",
        "      cnn_fc.eval()\n",
        "      correct = 0\n",
        "      for small in small_subnetworks:\n",
        "        small.eval()\n",
        "      for batch in val_batches:\n",
        "        features, target = batch[:-1], batch[-1]\n",
        "        features = features[0].to(device)\n",
        "        target = target.to(device)\n",
        "        val_out = cnn(features.to(device))\n",
        "        val_out.detach()\n",
        "        total_loss = 0\n",
        "        preds = []\n",
        "        for i in range(10):\n",
        "          temp = small_subnetworks[i](val_out[:, i*200:(i+1)*200])\n",
        "          temp = nn.functional.softmax(temp)\n",
        "          preds.append(temp)\n",
        "        preds = torch.mode(torch.argmax(torch.stack(preds), dim=2), dim=0).values\n",
        "        correct += torch.where(preds==target, 1, 0).sum()\n",
        "      print(f\"Epoch {epoch}: {(correct/y_val.shape[0])*100}%\")\n"
      ],
      "metadata": {
        "colab": {
          "base_uri": "https://localhost:8080/",
          "height": 412
        },
        "id": "6DfcF6ZSqyTz",
        "outputId": "d99e58c0-3479-437c-acfc-030441e0b315",
        "trusted": true,
        "execution": {
          "iopub.status.busy": "2025-05-06T02:33:11.228403Z",
          "iopub.execute_input": "2025-05-06T02:33:11.228687Z",
          "iopub.status.idle": "2025-05-06T04:41:21.487436Z",
          "shell.execute_reply.started": "2025-05-06T02:33:11.228665Z",
          "shell.execute_reply": "2025-05-06T04:41:21.486785Z"
        }
      },
      "outputs": [
        {
          "name": "stdout",
          "text": "Epoch 0: 97.2249984741211%\nEpoch 1: 98.19166564941406%\nEpoch 2: 98.5250015258789%\nEpoch 3: 98.5250015258789%\nEpoch 4: 98.55833435058594%\nEpoch 5: 98.8083267211914%\nEpoch 6: 98.61666870117188%\nEpoch 7: 98.7249984741211%\nEpoch 8: 98.81666564941406%\nEpoch 9: 98.8083267211914%\nEpoch 10: 98.8499984741211%\nEpoch 11: 98.89999389648438%\nEpoch 12: 98.98332977294922%\nEpoch 13: 98.91666412353516%\nEpoch 14: 98.875%\nEpoch 15: 98.90833282470703%\nEpoch 16: 99.01666259765625%\nEpoch 17: 98.89999389648438%\nEpoch 18: 99.03333282470703%\nEpoch 19: 99.15833282470703%\nEpoch 20: 98.94999694824219%\nEpoch 21: 98.95832824707031%\nEpoch 22: 98.94166564941406%\nEpoch 23: 98.9749984741211%\nEpoch 24: 99.14999389648438%\nEpoch 25: 99.03333282470703%\nEpoch 26: 99.06666564941406%\nEpoch 27: 99.14166259765625%\nEpoch 28: 99.17500305175781%\nEpoch 29: 99.25%\nEpoch 30: 99.19166564941406%\nEpoch 31: 99.01666259765625%\nEpoch 32: 99.13333129882812%\nEpoch 33: 99.16666412353516%\nEpoch 34: 99.06666564941406%\nEpoch 35: 99.23332977294922%\nEpoch 36: 99.10832977294922%\nEpoch 37: 99.18333435058594%\nEpoch 38: 99.2249984741211%\nEpoch 39: 99.19999694824219%\nEpoch 40: 99.10832977294922%\nEpoch 41: 99.19166564941406%\nEpoch 42: 99.13333129882812%\nEpoch 43: 99.0999984741211%\nEpoch 44: 99.2750015258789%\nEpoch 45: 99.23332977294922%\nEpoch 46: 99.14166259765625%\nEpoch 47: 99.19999694824219%\nEpoch 48: 99.24166870117188%\nEpoch 49: 99.2249984741211%\n",
          "output_type": "stream"
        }
      ],
      "execution_count": null
    },
    {
      "cell_type": "code",
      "source": [
        "# y_test = torch.argmax(y_test, dim=1)\n",
        "test_batches = DataLoader([*zip(test_images, y_test)], batch_size=batch_size, shuffle=True)\n",
        "with torch.no_grad():\n",
        "  cnn.eval()\n",
        "  cnn_fc.eval()\n",
        "  correct = 0\n",
        "  for small in small_subnetworks:\n",
        "    small.eval()\n",
        "  for batch in test_batches:\n",
        "    features, target = batch[:-1], batch[-1]\n",
        "    features = features[0].to(device)\n",
        "    target = target.to(device)\n",
        "    test_out = cnn(features.to(device))\n",
        "    test_out.detach()\n",
        "    total_loss = 0\n",
        "    preds = []\n",
        "    for i in range(10):\n",
        "      temp = small_subnetworks[i](test_out[:, i*200:(i+1)*200])\n",
        "      temp = nn.functional.softmax(temp)\n",
        "      preds.append(temp)\n",
        "    preds = torch.mode(torch.argmax(torch.stack(preds), dim=2), dim=0).values\n",
        "    correct += torch.where(preds==target, 1, 0).sum()\n",
        "  print(f\"Test result: {(correct/y_test.shape[0])*100}%\")"
      ],
      "metadata": {
        "trusted": true,
        "execution": {
          "iopub.status.busy": "2025-05-06T04:45:56.057668Z",
          "iopub.execute_input": "2025-05-06T04:45:56.058343Z",
          "iopub.status.idle": "2025-05-06T04:46:05.728022Z",
          "shell.execute_reply.started": "2025-05-06T04:45:56.058313Z",
          "shell.execute_reply": "2025-05-06T04:46:05.727409Z"
        },
        "id": "We1QPmQ1UK1J",
        "outputId": "7c404bd6-6e8a-4c23-80e2-e3ad5fab580d"
      },
      "outputs": [
        {
          "name": "stdout",
          "text": "Test result: 99.30999755859375%\n",
          "output_type": "stream"
        }
      ],
      "execution_count": null
    }
  ]
}