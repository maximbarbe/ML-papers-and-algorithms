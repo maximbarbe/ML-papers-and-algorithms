{
  "nbformat": 4,
  "nbformat_minor": 0,
  "metadata": {
    "colab": {
      "provenance": [],
      "gpuType": "T4"
    },
    "kernelspec": {
      "name": "python3",
      "display_name": "Python 3"
    },
    "language_info": {
      "name": "python"
    },
    "accelerator": "GPU"
  },
  "cells": [
    {
      "cell_type": "code",
      "execution_count": 22,
      "metadata": {
        "id": "rgnADqLbReaj"
      },
      "outputs": [],
      "source": [
        "import torch.nn as nn\n",
        "import torchvision\n",
        "import torch\n",
        "import matplotlib.pyplot as plt\n",
        "from torch.utils.data import DataLoader\n",
        "from random import choices, sample\n",
        "import numpy as np\n",
        "import random\n",
        "from sklearn.model_selection import train_test_split\n",
        "import warnings"
      ]
    },
    {
      "cell_type": "code",
      "source": [
        "device = \"cuda\" if torch.cuda.is_available() else \"cpu\"\n",
        "seed = 42\n",
        "warnings.filterwarnings(\"ignore\")"
      ],
      "metadata": {
        "id": "LpZbp7bwRzRi"
      },
      "execution_count": 23,
      "outputs": []
    },
    {
      "cell_type": "code",
      "source": [
        "torch.random.manual_seed(seed)\n",
        "torch.cuda.manual_seed_all(seed)\n",
        "torch.manual_seed(seed)\n",
        "np.random.seed(seed)\n",
        "random.seed(seed)"
      ],
      "metadata": {
        "id": "_x5FZ8QvR6wR"
      },
      "execution_count": 24,
      "outputs": []
    },
    {
      "cell_type": "code",
      "source": [
        "mock_images = torch.randint(0, 256, (500, 3, 227, 227)).float().to(device)"
      ],
      "metadata": {
        "id": "bwTHOJXESCSR"
      },
      "execution_count": 25,
      "outputs": []
    },
    {
      "cell_type": "code",
      "source": [
        "class AlexNet(nn.Module):\n",
        "\n",
        "  def __init__(self):\n",
        "    super().__init__()\n",
        "    self.conv1 = nn.Conv2d(3, 96, kernel_size=(11, 11), stride=4)\n",
        "    nn.init.normal_(self.conv1.weight, mean=0, std=0.01)\n",
        "    nn.init.zeros_(self.conv1.bias)\n",
        "\n",
        "    self.maxpool = nn.MaxPool2d(kernel_size=(3, 3), stride=2)\n",
        "    self.localresponsenorm = nn.LocalResponseNorm(size=5, alpha = 5*10**(-4), k=2, beta=0.75)\n",
        "\n",
        "    self.conv2 = nn.Conv2d(96, 256, kernel_size=(5, 5), padding=2)\n",
        "    nn.init.normal_(self.conv2.weight, mean=0, std=0.01)\n",
        "    nn.init.ones_(self.conv2.bias)\n",
        "\n",
        "    self.conv3 = nn.Conv2d(256, 384, kernel_size=(3, 3), padding=1)\n",
        "    nn.init.normal_(self.conv3.weight, mean=0, std=0.01)\n",
        "    nn.init.zeros_(self.conv3.bias)\n",
        "\n",
        "    self.conv4 = nn.Conv2d(384, 384, kernel_size=(3, 3), padding=1)\n",
        "    nn.init.normal_(self.conv4.weight, mean=0, std=0.01)\n",
        "    nn.init.ones_(self.conv4.bias)\n",
        "\n",
        "    self.conv5 = nn.Conv2d(384, 256, kernel_size=(3, 3), padding=1)\n",
        "    nn.init.normal_(self.conv5.weight, mean=0, std=0.01)\n",
        "    nn.init.ones_(self.conv5.bias)\n",
        "\n",
        "    self.fc1 = nn.Linear(9216, 4096)\n",
        "    nn.init.normal_(self.fc1.weight, mean=0, std=0.01)\n",
        "    nn.init.ones_(self.fc1.bias)\n",
        "\n",
        "    self.fc2 = nn.Linear(4096, 4096)\n",
        "    nn.init.normal_(self.fc2.weight, mean=0, std=0.01)\n",
        "    nn.init.ones_(self.fc2.bias)\n",
        "\n",
        "    self.fc3 = nn.Linear(4096, 1000)\n",
        "    nn.init.normal_(self.fc3.weight, mean=0, std=0.01)\n",
        "    nn.init.ones_(self.fc3.bias)\n",
        "\n",
        "  def forward(self, x):\n",
        "    x = nn.functional.relu(self.conv1(x))\n",
        "    x = self.localresponsenorm(x)\n",
        "    x = self.maxpool(x)\n",
        "    x = nn.functional.relu(self.conv2(x))\n",
        "    x = self.localresponsenorm(x)\n",
        "    x = self.maxpool(x)\n",
        "    x = nn.functional.relu(self.conv3(x))\n",
        "    x = nn.functional.relu(self.conv4(x))\n",
        "    x = nn.functional.relu(self.conv5(x))\n",
        "    x = self.maxpool(x)\n",
        "    x = torch.flatten(x, 1, -1)\n",
        "    x = nn.functional.dropout(nn.functional.relu(self.fc1(x)), p=0.5)\n",
        "    x = nn.functional.dropout(nn.functional.relu(self.fc2(x)), p=0.5)\n",
        "\n",
        "    return nn.functional.softmax(self.fc3(x))\n"
      ],
      "metadata": {
        "id": "1gFQTyFwR8NZ"
      },
      "execution_count": 26,
      "outputs": []
    },
    {
      "cell_type": "code",
      "source": [
        "model = AlexNet().to(device)\n",
        "out = model(mock_images)\n"
      ],
      "metadata": {
        "id": "4nX27fZ8UeNq"
      },
      "execution_count": 27,
      "outputs": []
    }
  ]
}